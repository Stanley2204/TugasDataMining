{
  "nbformat": 4,
  "nbformat_minor": 0,
  "metadata": {
    "colab": {
      "provenance": []
    },
    "kernelspec": {
      "name": "python3",
      "display_name": "Python 3"
    },
    "language_info": {
      "name": "python"
    }
  },
  "cells": [
    {
      "cell_type": "code",
      "source": [
        "import pandas as pd\n",
        "import numpy as np\n",
        "import matplotlib.pyplot as plt\n",
        "\n",
        "from sklearn.model_selection import train_test_split\n",
        "from sklearn.compose import ColumnTransformer\n",
        "from sklearn.preprocessing import OneHotEncoder, StandardScaler, LabelEncoder\n",
        "from sklearn.pipeline import Pipeline\n",
        "from sklearn.tree import DecisionTreeClassifier\n",
        "from sklearn.naive_bayes import GaussianNB\n",
        "from sklearn.metrics import accuracy_score, classification_report, confusion_matrix"
      ],
      "metadata": {
        "id": "68hIM0h5osfY"
      },
      "execution_count": 2,
      "outputs": []
    },
    {
      "cell_type": "code",
      "execution_count": 1,
      "metadata": {
        "colab": {
          "base_uri": "https://localhost:8080/"
        },
        "id": "sP9Zvy-un1an",
        "outputId": "8f1e919e-4c3d-4dd1-89c9-2afcecb33de2"
      },
      "outputs": [
        {
          "output_type": "stream",
          "name": "stdout",
          "text": [
            "✅ File successfully loaded from GitHub\n",
            "   ID  Age  Gender  Country  Coffee_Intake  Caffeine_mg  Sleep_Hours  \\\n",
            "0   1   40    Male  Germany            3.5        328.1          7.5   \n",
            "1   2   33    Male  Germany            1.0         94.1          6.2   \n",
            "2   3   42    Male   Brazil            5.3        503.7          5.9   \n",
            "3   4   53    Male  Germany            2.6        249.2          7.3   \n",
            "4   5   32  Female    Spain            3.1        298.0          5.3   \n",
            "\n",
            "  Sleep_Quality   BMI  Heart_Rate Stress_Level  Physical_Activity_Hours  \\\n",
            "0          Good  24.9          78          Low                     14.5   \n",
            "1          Good  20.0          67          Low                     11.0   \n",
            "2          Fair  22.7          59       Medium                     11.2   \n",
            "3          Good  24.7          71          Low                      6.6   \n",
            "4          Fair  24.1          76       Medium                      8.5   \n",
            "\n",
            "  Health_Issues Occupation  Smoking  Alcohol_Consumption  \n",
            "0           NaN      Other        0                    0  \n",
            "1           NaN    Service        0                    0  \n",
            "2          Mild     Office        0                    0  \n",
            "3          Mild      Other        0                    0  \n",
            "4          Mild    Student        0                    1  \n"
          ]
        }
      ],
      "source": [
        "import pandas as pd\n",
        "\n",
        "# GitHub raw CSV link\n",
        "url = \"https://raw.githubusercontent.com/Stanley2204/TugasDataMining/main/synthetic_coffee_health.csv\"\n",
        "\n",
        "# Load the CSV file into a DataFrame\n",
        "df = pd.read_csv(url)\n",
        "\n",
        "# Preview the data\n",
        "print(\"✅ File successfully loaded from GitHub\")\n",
        "print(df.head())\n"
      ]
    },
    {
      "cell_type": "code",
      "source": [
        "# 1. Print all column names (may contain duplicates)\n",
        "print(\"All columns:\", df.columns.tolist())"
      ],
      "metadata": {
        "colab": {
          "base_uri": "https://localhost:8080/"
        },
        "id": "XqKnSI9Eo7n3",
        "outputId": "d0c4e009-18dc-40fe-f0cd-f9de7c2f6227"
      },
      "execution_count": 4,
      "outputs": [
        {
          "output_type": "stream",
          "name": "stdout",
          "text": [
            "All columns: ['ID', 'Age', 'Gender', 'Country', 'Coffee_Intake', 'Caffeine_mg', 'Sleep_Hours', 'Sleep_Quality', 'BMI', 'Heart_Rate', 'Stress_Level', 'Physical_Activity_Hours', 'Health_Issues', 'Occupation', 'Smoking', 'Alcohol_Consumption']\n"
          ]
        }
      ]
    },
    {
      "cell_type": "code",
      "source": [
        "print(\"=== HEAD ===\")\n",
        "print(df.head())\n",
        "print(\"\\n=== INFO ===\")\n",
        "print(df.info())\n",
        "print(\"\\n=== DESCRIBE (numerical) ===\")\n",
        "print(df.describe(include=[np.number]).T)\n",
        "print(\"\\n=== DESCRIBE (object) ===\")\n",
        "print(df.describe(include=['object']).T)\n",
        "\n",
        "target_col = 'Health_Issues'\n",
        "if target_col not in df.columns:\n",
        "    raise ValueError(f\"Target column '{target_col}' not found. Adjust target_col variable.\")\n",
        "\n",
        "df[target_col] = df[target_col].fillna(\"Missing\").astype(str)\n",
        "\n",
        "print(\"\\nTarget value counts:\")\n",
        "print(df[target_col].value_counts())\n"
      ],
      "metadata": {
        "colab": {
          "base_uri": "https://localhost:8080/"
        },
        "id": "uahEiD4qoJI3",
        "outputId": "855592d4-d852-49d3-def3-81eb440a379a"
      },
      "execution_count": 15,
      "outputs": [
        {
          "output_type": "stream",
          "name": "stdout",
          "text": [
            "=== HEAD ===\n",
            "   ID  Age  Gender  Country  Coffee_Intake  Caffeine_mg  Sleep_Hours  \\\n",
            "0   1   40    Male  Germany            3.5        328.1          7.5   \n",
            "1   2   33    Male  Germany            1.0         94.1          6.2   \n",
            "2   3   42    Male   Brazil            5.3        503.7          5.9   \n",
            "3   4   53    Male  Germany            2.6        249.2          7.3   \n",
            "4   5   32  Female    Spain            3.1        298.0          5.3   \n",
            "\n",
            "  Sleep_Quality   BMI  Heart_Rate Stress_Level  Physical_Activity_Hours  \\\n",
            "0          Good  24.9          78          Low                     14.5   \n",
            "1          Good  20.0          67          Low                     11.0   \n",
            "2          Fair  22.7          59       Medium                     11.2   \n",
            "3          Good  24.7          71          Low                      6.6   \n",
            "4          Fair  24.1          76       Medium                      8.5   \n",
            "\n",
            "  Health_Issues Occupation  Smoking  Alcohol_Consumption  \n",
            "0           NaN      Other        0                    0  \n",
            "1           NaN    Service        0                    0  \n",
            "2          Mild     Office        0                    0  \n",
            "3          Mild      Other        0                    0  \n",
            "4          Mild    Student        0                    1  \n",
            "\n",
            "=== INFO ===\n",
            "<class 'pandas.core.frame.DataFrame'>\n",
            "RangeIndex: 10000 entries, 0 to 9999\n",
            "Data columns (total 16 columns):\n",
            " #   Column                   Non-Null Count  Dtype  \n",
            "---  ------                   --------------  -----  \n",
            " 0   ID                       10000 non-null  int64  \n",
            " 1   Age                      10000 non-null  int64  \n",
            " 2   Gender                   10000 non-null  object \n",
            " 3   Country                  10000 non-null  object \n",
            " 4   Coffee_Intake            10000 non-null  float64\n",
            " 5   Caffeine_mg              10000 non-null  float64\n",
            " 6   Sleep_Hours              10000 non-null  float64\n",
            " 7   Sleep_Quality            10000 non-null  object \n",
            " 8   BMI                      10000 non-null  float64\n",
            " 9   Heart_Rate               10000 non-null  int64  \n",
            " 10  Stress_Level             10000 non-null  object \n",
            " 11  Physical_Activity_Hours  10000 non-null  float64\n",
            " 12  Health_Issues            4059 non-null   object \n",
            " 13  Occupation               10000 non-null  object \n",
            " 14  Smoking                  10000 non-null  int64  \n",
            " 15  Alcohol_Consumption      10000 non-null  int64  \n",
            "dtypes: float64(5), int64(5), object(6)\n",
            "memory usage: 1.2+ MB\n",
            "None\n",
            "\n",
            "=== DESCRIBE (numerical) ===\n",
            "                           count        mean          std   min      25%  \\\n",
            "ID                       10000.0  5000.50000  2886.895680   1.0  2500.75   \n",
            "Age                      10000.0    34.94910    11.160939  18.0    26.00   \n",
            "Coffee_Intake            10000.0     2.50923     1.450248   0.0     1.50   \n",
            "Caffeine_mg              10000.0   238.41101   137.748815   0.0   138.75   \n",
            "Sleep_Hours              10000.0     6.63622     1.222055   3.0     5.80   \n",
            "BMI                      10000.0    23.98686     3.906411  15.0    21.30   \n",
            "Heart_Rate               10000.0    70.61780     9.822951  50.0    64.00   \n",
            "Physical_Activity_Hours  10000.0     7.48704     4.315180   0.0     3.70   \n",
            "Smoking                  10000.0     0.20040     0.400320   0.0     0.00   \n",
            "Alcohol_Consumption      10000.0     0.30070     0.458585   0.0     0.00   \n",
            "\n",
            "                            50%       75%      max  \n",
            "ID                       5000.5  7500.250  10000.0  \n",
            "Age                        34.0    43.000     80.0  \n",
            "Coffee_Intake               2.5     3.500      8.2  \n",
            "Caffeine_mg               235.4   332.025    780.3  \n",
            "Sleep_Hours                 6.6     7.500     10.0  \n",
            "BMI                        24.0    26.600     38.2  \n",
            "Heart_Rate                 71.0    77.000    109.0  \n",
            "Physical_Activity_Hours     7.5    11.200     15.0  \n",
            "Smoking                     0.0     0.000      1.0  \n",
            "Alcohol_Consumption         0.0     1.000      1.0  \n",
            "\n",
            "=== DESCRIBE (object) ===\n",
            "               count unique     top  freq\n",
            "Gender         10000      3  Female  5001\n",
            "Country        10000     20  Canada   543\n",
            "Sleep_Quality  10000      4    Good  5637\n",
            "Stress_Level   10000      3     Low  6989\n",
            "Health_Issues   4059      3    Mild  3579\n",
            "Occupation     10000      5  Office  2073\n",
            "\n",
            "Target value counts:\n",
            "Health_Issues\n",
            "Missing     5941\n",
            "Mild        3579\n",
            "Moderate     463\n",
            "Severe        17\n",
            "Name: count, dtype: int64\n"
          ]
        }
      ]
    },
    {
      "cell_type": "code",
      "source": [
        "numeric_cols = df.select_dtypes(include=[np.number]).columns.tolist()\n",
        "cat_cols = df.select_dtypes(include=['object','category']).columns.tolist()\n",
        "if target_col in cat_cols:\n",
        "    cat_cols.remove(target_col)\n",
        "\n",
        "# Visualization 1: Target distribution\n",
        "plt.figure(figsize=(6,4))\n",
        "df[target_col].value_counts().plot(kind='bar')\n",
        "plt.title(\"Distribution of target: Health_Issues\")\n",
        "plt.xlabel(\"Health_Issues\")\n",
        "plt.ylabel(\"count\")\n",
        "plt.tight_layout()\n",
        "plt.show()\n",
        "\n",
        "# Visualization 2: Histogram of first numeric col\n",
        "if numeric_cols:\n",
        "    col = numeric_cols[0]\n",
        "    plt.figure(figsize=(6,4))\n",
        "    plt.hist(df[col].dropna(), bins=30)\n",
        "    plt.title(f\"Histogram of {col}\")\n",
        "    plt.xlabel(col)\n",
        "    plt.ylabel(\"frequency\")\n",
        "    plt.tight_layout()\n",
        "    plt.show()\n",
        "\n",
        "# Visualization 3: Boxplot numeric vs target\n",
        "if numeric_cols:\n",
        "    col = numeric_cols[0]\n",
        "    plt.figure(figsize=(6,4))\n",
        "    df.boxplot(column=col, by=target_col)\n",
        "    plt.title(f\"{col} by {target_col}\")\n",
        "    plt.suptitle(\"\")\n",
        "    plt.xlabel(target_col)\n",
        "    plt.ylabel(col)\n",
        "    plt.tight_layout()\n",
        "    plt.show()\n",
        "\n",
        "# fallback categorical visualization\n",
        "if not numeric_cols and cat_cols:\n",
        "    col = cat_cols[0]\n",
        "    cross = pd.crosstab(df[col], df[target_col], normalize='index')\n",
        "    cross.plot(kind='bar', stacked=True, figsize=(8,4))\n",
        "    plt.title(f\"Proportion of {target_col} by {col}\")\n",
        "    plt.tight_layout()\n",
        "    plt.show()"
      ],
      "metadata": {
        "colab": {
          "base_uri": "https://localhost:8080/",
          "height": 1000
        },
        "id": "lyJRCj1aowia",
        "outputId": "c05d04ad-f787-456f-d61d-e559a4d0532c"
      },
      "execution_count": 16,
      "outputs": [
        {
          "output_type": "display_data",
          "data": {
            "text/plain": [
              "<Figure size 600x400 with 1 Axes>"
            ],
            "image/png": "[encoded data removed]"
          },
          "metadata": {}
        },
        {
          "output_type": "display_data",
          "data": {
            "text/plain": [
              "<Figure size 600x400 with 1 Axes>"
            ],
            "image/png": "[encoded data removed]"
          },
          "metadata": {}
        },
        {
          "output_type": "display_data",
          "data": {
            "text/plain": [
              "<Figure size 600x400 with 0 Axes>"
            ]
          },
          "metadata": {}
        },
        {
          "output_type": "display_data",
          "data": {
            "text/plain": [
              "<Figure size 640x480 with 1 Axes>"
            ],
            "image/png": "[encoded data removed]"
          },
          "metadata": {}
        }
      ]
    },
    {
      "cell_type": "code",
      "source": [
        "X = df.drop(columns=[target_col])\n",
        "y = df[target_col].copy()\n",
        "\n",
        "le_target = LabelEncoder()\n",
        "y_enc = le_target.fit_transform(y)\n",
        "target_names = [str(x) for x in le_target.classes_]\n",
        "\n",
        "print(\"\\nTarget classes mapping:\")\n",
        "print(dict(zip(le_target.classes_, le_target.transform(le_target.classes_))))\n",
        "\n",
        "cat_features = X.select_dtypes(include=['object','category']).columns.tolist()\n",
        "num_features = X.select_dtypes(include=[np.number]).columns.tolist()\n",
        "print(\"\\nCategorical features:\", cat_features)\n",
        "print(\"Numerical features:\", num_features)\n",
        "\n",
        "preprocessor = ColumnTransformer(\n",
        "    transformers=[\n",
        "        (\"num\", StandardScaler(), num_features),\n",
        "        (\"cat\", OneHotEncoder(handle_unknown=\"ignore\", sparse_output=False), cat_features)\n",
        "    ],\n",
        "    remainder=\"drop\"\n",
        ")"
      ],
      "metadata": {
        "colab": {
          "base_uri": "https://localhost:8080/"
        },
        "id": "Zvvz1E7cqnkj",
        "outputId": "8b806216-4dc2-4672-b4ef-804cc58dacd4"
      },
      "execution_count": 17,
      "outputs": [
        {
          "output_type": "stream",
          "name": "stdout",
          "text": [
            "\n",
            "Target classes mapping:\n",
            "{'Mild': np.int64(0), 'Missing': np.int64(1), 'Moderate': np.int64(2), 'Severe': np.int64(3)}\n",
            "\n",
            "Categorical features: ['Gender', 'Country', 'Sleep_Quality', 'Stress_Level', 'Occupation']\n",
            "Numerical features: ['ID', 'Age', 'Coffee_Intake', 'Caffeine_mg', 'Sleep_Hours', 'BMI', 'Heart_Rate', 'Physical_Activity_Hours', 'Smoking', 'Alcohol_Consumption']\n"
          ]
        }
      ]
    },
    {
      "cell_type": "code",
      "source": [
        "X_train, X_test, y_train, y_test = train_test_split(\n",
        "    X, y_enc, test_size=0.2, random_state=42, stratify=y_enc\n",
        ")\n",
        "print(f\"\\nTrain shape: {X_train.shape}, Test shape: {X_test.shape}\")\n",
        "\n",
        "def build_pipeline(model):\n",
        "    return Pipeline(steps=[\n",
        "        (\"pre\", preprocessor),\n",
        "        (\"clf\", model)\n",
        "    ])"
      ],
      "metadata": {
        "colab": {
          "base_uri": "https://localhost:8080/"
        },
        "id": "Q5Fayldsreyw",
        "outputId": "2f7a346d-34d6-453a-ed08-1b7997d71347"
      },
      "execution_count": 18,
      "outputs": [
        {
          "output_type": "stream",
          "name": "stdout",
          "text": [
            "\n",
            "Train shape: (8000, 15), Test shape: (2000, 15)\n"
          ]
        }
      ]
    },
    {
      "cell_type": "code",
      "source": [
        "dt_entropy = build_pipeline(DecisionTreeClassifier(criterion=\"entropy\", random_state=42))\n",
        "dt_entropy.fit(X_train, y_train)\n",
        "y_pred_dt_entropy = dt_entropy.predict(X_test)\n",
        "acc_dt_entropy = accuracy_score(y_test, y_pred_dt_entropy)\n",
        "print(\"\\nDecision Tree (entropy) Accuracy:\", acc_dt_entropy)\n",
        "print(\"Classification Report (entropy):\")\n",
        "print(classification_report(y_test, y_pred_dt_entropy, target_names=target_names))\n"
      ],
      "metadata": {
        "colab": {
          "base_uri": "https://localhost:8080/"
        },
        "id": "y92l4wOgrhRn",
        "outputId": "6066fdbc-8965-4448-fc05-b45e6b48a179"
      },
      "execution_count": 19,
      "outputs": [
        {
          "output_type": "stream",
          "name": "stdout",
          "text": [
            "\n",
            "Decision Tree (entropy) Accuracy: 0.998\n",
            "Classification Report (entropy):\n",
            "              precision    recall  f1-score   support\n",
            "\n",
            "        Mild       1.00      1.00      1.00       716\n",
            "     Missing       1.00      1.00      1.00      1188\n",
            "    Moderate       1.00      0.99      0.99        93\n",
            "      Severe       1.00      1.00      1.00         3\n",
            "\n",
            "    accuracy                           1.00      2000\n",
            "   macro avg       1.00      1.00      1.00      2000\n",
            "weighted avg       1.00      1.00      1.00      2000\n",
            "\n"
          ]
        }
      ]
    },
    {
      "cell_type": "code",
      "source": [
        "dt_gini = build_pipeline(DecisionTreeClassifier(criterion=\"gini\", random_state=42))\n",
        "dt_gini.fit(X_train, y_train)\n",
        "y_pred_dt_gini = dt_gini.predict(X_test)\n",
        "acc_dt_gini = accuracy_score(y_test, y_pred_dt_gini)\n",
        "print(\"\\nDecision Tree (gini) Accuracy:\", acc_dt_gini)\n",
        "print(\"Classification Report (gini):\")\n",
        "print(classification_report(y_test, y_pred_dt_gini, target_names=target_names))"
      ],
      "metadata": {
        "colab": {
          "base_uri": "https://localhost:8080/"
        },
        "id": "TO4ZSf2WrnUY",
        "outputId": "17d44829-0fcf-4f68-f8f5-690e177f6d1f"
      },
      "execution_count": 20,
      "outputs": [
        {
          "output_type": "stream",
          "name": "stdout",
          "text": [
            "\n",
            "Decision Tree (gini) Accuracy: 0.998\n",
            "Classification Report (gini):\n",
            "              precision    recall  f1-score   support\n",
            "\n",
            "        Mild       1.00      1.00      1.00       716\n",
            "     Missing       1.00      1.00      1.00      1188\n",
            "    Moderate       1.00      0.99      0.99        93\n",
            "      Severe       1.00      1.00      1.00         3\n",
            "\n",
            "    accuracy                           1.00      2000\n",
            "   macro avg       1.00      1.00      1.00      2000\n",
            "weighted avg       1.00      1.00      1.00      2000\n",
            "\n"
          ]
        }
      ]
    },
    {
      "cell_type": "code",
      "source": [
        "gnb = build_pipeline(GaussianNB())\n",
        "gnb.fit(X_train, y_train)\n",
        "y_pred_gnb = gnb.predict(X_test)\n",
        "acc_gnb = accuracy_score(y_test, y_pred_gnb)\n",
        "print(\"\\nGaussianNB Accuracy:\", acc_gnb)\n",
        "print(\"Classification Report (GaussianNB):\")\n",
        "print(classification_report(y_test, y_pred_gnb, target_names=target_names))"
      ],
      "metadata": {
        "colab": {
          "base_uri": "https://localhost:8080/"
        },
        "id": "He_9NngTrprE",
        "outputId": "e295d670-1ace-4a14-864e-effe0e4aa560"
      },
      "execution_count": 21,
      "outputs": [
        {
          "output_type": "stream",
          "name": "stdout",
          "text": [
            "\n",
            "GaussianNB Accuracy: 0.699\n",
            "Classification Report (GaussianNB):\n",
            "              precision    recall  f1-score   support\n",
            "\n",
            "        Mild       0.94      0.23      0.38       716\n",
            "     Missing       0.85      1.00      0.92      1188\n",
            "    Moderate       0.18      0.44      0.26        93\n",
            "      Severe       0.00      0.33      0.01         3\n",
            "\n",
            "    accuracy                           0.70      2000\n",
            "   macro avg       0.49      0.50      0.39      2000\n",
            "weighted avg       0.85      0.70      0.69      2000\n",
            "\n"
          ]
        }
      ]
    },
    {
      "cell_type": "code",
      "source": [
        "print(\"\\n=== Accuracy comparison ===\")\n",
        "print(f\"DecisionTree (entropy): {acc_dt_entropy:.4f}\")\n",
        "print(f\"DecisionTree (gini):    {acc_dt_gini:.4f}\")\n",
        "print(f\"GaussianNB:             {acc_gnb:.4f}\")\n",
        "\n",
        "best_name = max(\n",
        "    [(\"DT_entropy\", acc_dt_entropy), (\"DT_gini\", acc_dt_gini), (\"GNB\", acc_gnb)],\n",
        "    key=lambda x: x[1]\n",
        ")[0]\n",
        "print(f\"\\nBest model by accuracy: {best_name}\")\n",
        "\n",
        "best_model = {\"DT_entropy\": dt_entropy, \"DT_gini\": dt_gini, \"GNB\": gnb}[best_name]"
      ],
      "metadata": {
        "colab": {
          "base_uri": "https://localhost:8080/"
        },
        "id": "R-AyclxrrsWV",
        "outputId": "b4414053-7dbc-400f-8478-6bd09c08621e"
      },
      "execution_count": 22,
      "outputs": [
        {
          "output_type": "stream",
          "name": "stdout",
          "text": [
            "\n",
            "=== Accuracy comparison ===\n",
            "DecisionTree (entropy): 0.9980\n",
            "DecisionTree (gini):    0.9980\n",
            "GaussianNB:             0.6990\n",
            "\n",
            "Best model by accuracy: DT_entropy\n"
          ]
        }
      ]
    },
    {
      "cell_type": "code",
      "source": [
        "sample = {}\n",
        "for col in X.columns:\n",
        "    if col in num_features:\n",
        "        sample[col] = float(X[col].median())\n",
        "    else:\n",
        "        sample[col] = X[col].mode().iloc[0] if not X[col].mode().empty else \"\"\n",
        "\n",
        "print(\"\\nExample new record (auto-generated from median/mode):\")\n",
        "print(sample)\n",
        "\n",
        "new_df = pd.DataFrame([sample])"
      ],
      "metadata": {
        "colab": {
          "base_uri": "https://localhost:8080/"
        },
        "id": "4xrW4iRGrvbm",
        "outputId": "0ddb1df7-f1e4-4dbc-db16-7a83e2085080"
      },
      "execution_count": 23,
      "outputs": [
        {
          "output_type": "stream",
          "name": "stdout",
          "text": [
            "\n",
            "Example new record (auto-generated from median/mode):\n",
            "{'ID': 5000.5, 'Age': 34.0, 'Gender': 'Female', 'Country': 'Canada', 'Coffee_Intake': 2.5, 'Caffeine_mg': 235.4, 'Sleep_Hours': 6.6, 'Sleep_Quality': 'Good', 'BMI': 24.0, 'Heart_Rate': 71.0, 'Stress_Level': 'Low', 'Physical_Activity_Hours': 7.5, 'Occupation': 'Office', 'Smoking': 0.0, 'Alcohol_Consumption': 0.0}\n"
          ]
        }
      ]
    },
    {
      "cell_type": "code",
      "source": [
        "pred_enc = best_model.predict(new_df)\n",
        "pred_label = le_target.inverse_transform(pred_enc)\n",
        "print(\"\\nPredicted encoded label:\", pred_enc)\n",
        "print(\"Predicted class (Health_Issues):\", pred_label[0])\n",
        "\n",
        "if hasattr(best_model.named_steps['clf'], \"predict_proba\"):\n",
        "    probs = best_model.predict_proba(new_df)\n",
        "    print(\"\\nPredicted probabilities for each class:\")\n",
        "    print(pd.DataFrame(probs, columns=le_target.classes_))\n",
        ""
      ],
      "metadata": {
        "colab": {
          "base_uri": "https://localhost:8080/"
        },
        "id": "h095BwTZrzGQ",
        "outputId": "83a7cbd9-2e71-4c7d-d75f-884f05996b75"
      },
      "execution_count": 24,
      "outputs": [
        {
          "output_type": "stream",
          "name": "stdout",
          "text": [
            "\n",
            "Predicted encoded label: [1]\n",
            "Predicted class (Health_Issues): Missing\n",
            "\n",
            "Predicted probabilities for each class:\n",
            "   Mild  Missing  Moderate  Severe\n",
            "0   0.0      1.0       0.0     0.0\n"
          ]
        }
      ]
    },
    {
      "cell_type": "code",
      "source": [],
      "metadata": {
        "id": "7M77_YpJr1jm"
      },
      "execution_count": null,
      "outputs": []
    }
  ]
}