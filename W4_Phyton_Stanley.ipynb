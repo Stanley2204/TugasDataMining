{
  "nbformat": 4,
  "nbformat_minor": 0,
  "metadata": {
    "colab": {
      "provenance": [],
      "include_colab_link": true
    },
    "kernelspec": {
      "name": "python3",
      "display_name": "Python 3"
    },
    "language_info": {
      "name": "python"
    }
  },
  "cells": [
    {
      "cell_type": "markdown",
      "metadata": {
        "id": "view-in-github",
        "colab_type": "text"
      },
      "source": [
        "<a href=\"https://colab.research.google.com/github/Stanley2204/TugasDataMining/blob/main/W4_Phyton_Stanley.ipynb\" target=\"_parent\"><img src=\"https://colab.research.google.com/assets/colab-badge.svg\" alt=\"Open In Colab\"/></a>"
      ]
    },
    {
      "cell_type": "code",
      "execution_count": 2,
      "metadata": {
        "colab": {
          "base_uri": "https://localhost:8080/"
        },
        "id": "iYtDK93P37vL",
        "outputId": "c434185a-eab6-46fd-fe46-04a59e26a012"
      },
      "outputs": [
        {
          "output_type": "stream",
          "name": "stdout",
          "text": [
            "Masukkan N: 6\n",
            "Faktorial dari 6 adalah 720\n"
          ]
        }
      ],
      "source": [
        "# No 1 Faktorial\n",
        "n = int(input(\"Masukkan N: \"))\n",
        "hasil_faktor = 1\n",
        "\n",
        "for i in range(1, n + 1):\n",
        "    hasil_faktor *= i\n",
        "\n",
        "print(f\"Faktorial dari {n} adalah {hasil_faktor}\")\n"
      ]
    },
    {
      "cell_type": "code",
      "source": [
        "# No 2 Bilangan Fibonaci\n",
        "n = int(input(\"Masukkan N: \"))\n",
        "\n",
        "def fibonaci(n):\n",
        "    if n == 0:\n",
        "        return 0\n",
        "    elif n == 1:\n",
        "        return 1\n",
        "\n",
        "    a, b = 0, 1\n",
        "    for _ in range(2, n + 1):\n",
        "        a, b = b, a + b\n",
        "    return b\n",
        "\n",
        "hasil_fibonaci = fibonaci(n)\n",
        "\n",
        "print(f\"Bilangan Fibonaci ke {n} adalah {hasil_fibonaci}\")\n"
      ],
      "metadata": {
        "colab": {
          "base_uri": "https://localhost:8080/"
        },
        "id": "WVFWYa0G6r4v",
        "outputId": "8dcce42d-9e9a-4756-d2c1-2790c5255e6e"
      },
      "execution_count": 3,
      "outputs": [
        {
          "output_type": "stream",
          "name": "stdout",
          "text": [
            "Masukkan N: 3\n",
            "Bilangan Fibonaci ke 3 adalah 2\n"
          ]
        }
      ]
    },
    {
      "cell_type": "code",
      "source": [
        "# No 3 Bilangan Prima\n",
        "n = int(input(\"Masukkan angka: \"))\n",
        "\n",
        "def prima(n):\n",
        "    if n < 2:\n",
        "        return False\n",
        "    for i in range(2, int(n**0.5) + 1):\n",
        "        if n % i == 0:\n",
        "            return False\n",
        "    return True\n",
        "\n",
        "if prima(n):\n",
        "    print(f\"{n} adalah bilangan prima.\")\n",
        "else:\n",
        "    print(f\"{n} bukan bilangan prima.\")"
      ],
      "metadata": {
        "colab": {
          "base_uri": "https://localhost:8080/"
        },
        "id": "2DBVyzYW8gZh",
        "outputId": "1dff0c4d-4efe-4fdb-bff9-52b1d15251e3"
      },
      "execution_count": 4,
      "outputs": [
        {
          "output_type": "stream",
          "name": "stdout",
          "text": [
            "Masukkan angka: 7\n",
            "7 adalah bilangan prima.\n"
          ]
        }
      ]
    },
    {
      "cell_type": "code",
      "source": [
        "# No 4 Nama Mahasiswa Kelas Data Mining B\n",
        "list_mahasiswa_DT = [\"Alex\", \"Brian\", \"Catherine\", \"David\", \"Eva\", \"Fiona\", \"George\", \"Hannah\", \"Ivan\", \"Jessica\"]\n",
        "\n",
        "nama = input(\"Masukkan nama mahasiswa yang ingin di cek: \")\n",
        "\n",
        "def cek_mahasiswa_DT(lst, nama):\n",
        "    for mahasiswa in lst:\n",
        "        if mahasiswa.lower() == nama.lower():\n",
        "            return True\n",
        "    return False\n",
        "\n",
        "if cek_mahasiswa_DT(list_mahasiswa_DT, nama):\n",
        "    print(f\"Mahasiswa {nama} adalah mahasiswa Data Mining kelas B.\")\n",
        "else:\n",
        "    print(f\"Mahasiswa {nama} bukan mahasiswa Data Mining kelas B.\")\n"
      ],
      "metadata": {
        "colab": {
          "base_uri": "https://localhost:8080/"
        },
        "id": "lHvXhN3gBjZC",
        "outputId": "1ccb2c97-e80a-443e-ee03-4d6f242006d7"
      },
      "execution_count": 5,
      "outputs": [
        {
          "output_type": "stream",
          "name": "stdout",
          "text": [
            "Masukkan nama mahasiswa yang ingin di cek: eva\n",
            "Mahasiswa eva adalah mahasiswa Data Mining kelas B.\n"
          ]
        }
      ]
    },
    {
      "cell_type": "code",
      "source": [
        "# No 5 Digit Angka\n",
        "def jumlah_digit(n):\n",
        "    # Hitung jumlah digit dengan membagi bilangan hingga habis\n",
        "    if n == 0:\n",
        "        return 1\n",
        "    count = 0\n",
        "    while n != 0:\n",
        "        n = n // 10\n",
        "        count += 1\n",
        "    return count\n",
        "\n",
        "# Contoh penggunaan\n",
        "bilangan = int(input(\"Masukkan bilangan: \"))\n",
        "hasil = jumlah_digit(bilangan)\n",
        "print(f\"Jumlah digit dari {bilangan} adalah {hasil}\")\n",
        "\n",
        "# Tentukan kategori bilangan berdasarkan jumlah digit\n",
        "if hasil == 1:\n",
        "    print(f\"Bilangan {bilangan} merupakan satuan\")\n",
        "elif hasil == 2:\n",
        "    print(f\"Bilangan {bilangan} merupakan puluan\")\n",
        "elif hasil == 3:\n",
        "    print(f\"Bilangan {bilangan} merupakan ratusan\")\n",
        "elif hasil >= 4 and hasil <= 6:\n",
        "    print(f\"Bilangan {bilangan} merupakan ribuan\")\n",
        "elif hasil >= 7 and hasil <= 9:\n",
        "    print(f\"Bilangan {bilangan} merupakan jutaan\")\n",
        "elif hasil >= 10 and hasil <= 12:\n",
        "    print(f\"Bilangan {bilangan} merupakan miliar\")\n",
        "elif hasil >= 13 and hasil <= 15:\n",
        "    print(f\"Bilangan {bilangan} merupakan triliun\")\n",
        "else:\n",
        "    print(f\"Bilangan {bilangan} terlalu besar untuk dikategorikan.\")"
      ],
      "metadata": {
        "colab": {
          "base_uri": "https://localhost:8080/"
        },
        "id": "mRdeqt89GnMv",
        "outputId": "3b3b6f0f-fa60-4bf9-be09-2c9caa933976"
      },
      "execution_count": 6,
      "outputs": [
        {
          "output_type": "stream",
          "name": "stdout",
          "text": [
            "Masukkan bilangan: 10\n",
            "Jumlah digit dari 10 adalah 2\n",
            "Bilangan 10 merupakan puluan\n"
          ]
        }
      ]
    },
    {
      "cell_type": "code",
      "source": [
        "# Entropy(t) , Gini(t) , Classification Error(t)\n",
        "import numpy as np\n",
        "\n",
        "def entropy(yes_count, no_count):\n",
        "    total = yes_count + no_count\n",
        "    if total == 0:\n",
        "        return 0\n",
        "    yes_prob = yes_count / total\n",
        "    no_prob = no_count / total\n",
        "    ent = 0\n",
        "    if yes_prob > 0:\n",
        "        ent -= yes_prob * np.log2(yes_prob)\n",
        "    if no_prob > 0:\n",
        "        ent -= no_prob * np.log2(no_prob)\n",
        "    return ent\n",
        "\n",
        "def gini(yes_count, no_count):\n",
        "    total = yes_count + no_count\n",
        "    if total == 0:\n",
        "        return 0\n",
        "    yes_prob = yes_count / total\n",
        "    no_prob = no_count / total\n",
        "    return 1 - (yes_prob ** 2 + no_prob ** 2)\n",
        "\n",
        "def classification_error(yes_count, no_count):\n",
        "    total = yes_count + no_count\n",
        "    if total == 0:\n",
        "        return 0\n",
        "    return 1 - max(yes_count, no_count) / total\n",
        "\n",
        "def parse_input(input_str):\n",
        "    yes_count = 0\n",
        "    no_count = 0\n",
        "\n",
        "    input_str = input_str.strip()[1:-1]\n",
        "    parts = input_str.split(',')\n",
        "\n",
        "    for part in parts:\n",
        "        value = int(part[:-1])\n",
        "        sign = part[-1]\n",
        "\n",
        "        if sign == '+':\n",
        "            yes_count += value\n",
        "        elif sign == '-':\n",
        "            no_count += value\n",
        "\n",
        "    return yes_count, no_count\n",
        "\n",
        "# Contoh penggunaan\n",
        "print(\"Masukkan jumlah yes/no dalam format '[9+, 5-]': \")\n",
        "input_str = input()\n",
        "\n",
        "yes_count, no_count = parse_input(input_str)\n",
        "\n",
        "ent = entropy(yes_count, no_count)\n",
        "gini_impurity = gini(yes_count, no_count)\n",
        "class_error = classification_error(yes_count, no_count)\n",
        "\n",
        "print(f\"Entropy: {ent}\")\n",
        "print(f\"Gini Impurity: {gini_impurity}\")\n",
        "print(f\"Classification Error: {class_error}\")"
      ],
      "metadata": {
        "id": "orVDCB8XMejg",
        "colab": {
          "base_uri": "https://localhost:8080/"
        },
        "outputId": "cbd840f2-e128-47c5-c92b-2ec6c822e1ef"
      },
      "execution_count": 7,
      "outputs": [
        {
          "output_type": "stream",
          "name": "stdout",
          "text": [
            "Masukkan jumlah yes/no dalam format '[9+, 5-]': \n",
            "[10+, 0-]\n",
            "Entropy: 0.0\n",
            "Gini Impurity: 0.0\n",
            "Classification Error: 0.0\n"
          ]
        }
      ]
    }
  ]
}